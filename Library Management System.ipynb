{
 "cells": [
  {
   "cell_type": "markdown",
   "id": "9977aaf0-d294-4e68-bce9-053cd6f6b44d",
   "metadata": {},
   "source": [
    "PROJECT : LIBRARY MANAGEMENT SYSTEM\n"
   ]
  },
  {
   "cell_type": "raw",
   "id": "0c07ea1a-23bd-4ee9-9d08-0716dd9c2f5e",
   "metadata": {},
   "source": [
    "PEOBLEM STATEMENT : Creating a dlibrary management system , A library management \n",
    "system (LMS) is software used to track items in a library, such as books, periodicals, audio-visual \n",
    "materials, electronic documents, and more. , we will develop a mini LMS system \n",
    "with following options: \n",
    "1. BOOK ISSUE \n",
    "2. BOOK DEPOSIT \n",
    "3. ADMINISTRATION MENU \n",
    "a. CREATE STUDENT RECORD \n",
    "b. DISPLAY ALL STUDENTS RECORD \n",
    "c. DISPLAY SPECIFIC STUDENT RECORD \n",
    "d. MODIFY STUDENT RECORD \n",
    "e. DELETE STUDENT RECORD \n",
    "f. \n",
    "CREATE BOOK \n",
    "g. DISPLAY ALL BOOKS \n",
    "h. DISPLAY SPECIFIC BOOK \n",
    "i. \n",
    "j. \n",
    "4. EXIT \n",
    "MODIFY BOOK \n",
    "DELETE BOOK RECORD \n",
    "Let’s build an application to implement these features. This is a comparatively large application to \n",
    "build. We need to follow a standard practice to make sure we develop the application within the given \n",
    "timeline and cost with good quality. We will apply the following steps here:"
   ]
  },
  {
   "cell_type": "raw",
   "id": "c9ec7ae6-fb78-4606-8d57-31a5bba01510",
   "metadata": {},
   "source": [
    "# OVERVIEW \n",
    "* We will create a menu in MyLMS.py that runs in a loop.\n",
    "* The program will interact with a MySQL database to store and retrieve books and student data.\n",
    "* We'll use functions for various operations.\n",
    "* The database connection will be handled using mysql-connector-python."
   ]
  },
  {
   "cell_type": "code",
   "execution_count": 1,
   "id": "bf28ca72-0a93-44cd-a07f-59f63e1d99c0",
   "metadata": {},
   "outputs": [
    {
     "name": "stdout",
     "output_type": "stream",
     "text": [
      "Collecting mysql-connector-python\n",
      "  Downloading mysql_connector_python-9.2.0-cp312-cp312-win_amd64.whl.metadata (6.2 kB)\n",
      "Downloading mysql_connector_python-9.2.0-cp312-cp312-win_amd64.whl (16.1 MB)\n",
      "   ---------------------------------------- 0.0/16.1 MB ? eta -:--:--\n",
      "   ---------------------------------------- 0.0/16.1 MB ? eta -:--:--\n",
      "   ---------------------------------------- 0.1/16.1 MB 812.7 kB/s eta 0:00:20\n",
      "    --------------------------------------- 0.3/16.1 MB 2.5 MB/s eta 0:00:07\n",
      "   - -------------------------------------- 0.5/16.1 MB 2.8 MB/s eta 0:00:06\n",
      "   - -------------------------------------- 0.6/16.1 MB 3.0 MB/s eta 0:00:06\n",
      "   - -------------------------------------- 0.8/16.1 MB 3.5 MB/s eta 0:00:05\n",
      "   -- ------------------------------------- 1.0/16.1 MB 3.6 MB/s eta 0:00:05\n",
      "   --- ------------------------------------ 1.3/16.1 MB 4.1 MB/s eta 0:00:04\n",
      "   ---- ----------------------------------- 1.6/16.1 MB 4.3 MB/s eta 0:00:04\n",
      "   ---- ----------------------------------- 1.8/16.1 MB 4.3 MB/s eta 0:00:04\n",
      "   ----- ---------------------------------- 2.0/16.1 MB 4.3 MB/s eta 0:00:04\n",
      "   ----- ---------------------------------- 2.2/16.1 MB 4.2 MB/s eta 0:00:04\n",
      "   ----- ---------------------------------- 2.4/16.1 MB 4.2 MB/s eta 0:00:04\n",
      "   ------ --------------------------------- 2.6/16.1 MB 4.2 MB/s eta 0:00:04\n",
      "   ------ --------------------------------- 2.7/16.1 MB 4.2 MB/s eta 0:00:04\n",
      "   ------- -------------------------------- 2.9/16.1 MB 4.2 MB/s eta 0:00:04\n",
      "   ------- -------------------------------- 3.1/16.1 MB 4.1 MB/s eta 0:00:04\n",
      "   -------- ------------------------------- 3.3/16.1 MB 4.1 MB/s eta 0:00:04\n",
      "   -------- ------------------------------- 3.5/16.1 MB 4.1 MB/s eta 0:00:04\n",
      "   --------- ------------------------------ 3.6/16.1 MB 4.1 MB/s eta 0:00:04\n",
      "   --------- ------------------------------ 3.8/16.1 MB 4.1 MB/s eta 0:00:03\n",
      "   --------- ------------------------------ 4.0/16.1 MB 4.0 MB/s eta 0:00:03\n",
      "   ---------- ----------------------------- 4.2/16.1 MB 4.1 MB/s eta 0:00:03\n",
      "   ---------- ----------------------------- 4.3/16.1 MB 4.1 MB/s eta 0:00:03\n",
      "   ----------- ---------------------------- 4.5/16.1 MB 4.1 MB/s eta 0:00:03\n",
      "   ----------- ---------------------------- 4.7/16.1 MB 4.1 MB/s eta 0:00:03\n",
      "   ------------ --------------------------- 4.9/16.1 MB 4.0 MB/s eta 0:00:03\n",
      "   ------------ --------------------------- 5.0/16.1 MB 4.0 MB/s eta 0:00:03\n",
      "   ------------- -------------------------- 5.2/16.1 MB 4.0 MB/s eta 0:00:03\n",
      "   ------------- -------------------------- 5.4/16.1 MB 4.0 MB/s eta 0:00:03\n",
      "   ------------- -------------------------- 5.6/16.1 MB 4.0 MB/s eta 0:00:03\n",
      "   ------------- -------------------------- 5.6/16.1 MB 4.0 MB/s eta 0:00:03\n",
      "   ------------- -------------------------- 5.6/16.1 MB 4.0 MB/s eta 0:00:03\n",
      "   --------------- ------------------------ 6.1/16.1 MB 4.0 MB/s eta 0:00:03\n",
      "   --------------- ------------------------ 6.3/16.1 MB 4.0 MB/s eta 0:00:03\n",
      "   ---------------- ----------------------- 6.5/16.1 MB 4.0 MB/s eta 0:00:03\n",
      "   ---------------- ----------------------- 6.6/16.1 MB 4.0 MB/s eta 0:00:03\n",
      "   ---------------- ----------------------- 6.8/16.1 MB 4.0 MB/s eta 0:00:03\n",
      "   ----------------- ---------------------- 7.0/16.1 MB 4.0 MB/s eta 0:00:03\n",
      "   ----------------- ---------------------- 7.2/16.1 MB 4.0 MB/s eta 0:00:03\n",
      "   ------------------ --------------------- 7.4/16.1 MB 4.0 MB/s eta 0:00:03\n",
      "   ------------------ --------------------- 7.5/16.1 MB 4.0 MB/s eta 0:00:03\n",
      "   ------------------- -------------------- 7.7/16.1 MB 4.0 MB/s eta 0:00:03\n",
      "   ------------------- -------------------- 7.9/16.1 MB 4.0 MB/s eta 0:00:03\n",
      "   -------------------- ------------------- 8.1/16.1 MB 4.0 MB/s eta 0:00:03\n",
      "   -------------------- ------------------- 8.2/16.1 MB 4.0 MB/s eta 0:00:02\n",
      "   -------------------- ------------------- 8.4/16.1 MB 4.0 MB/s eta 0:00:02\n",
      "   --------------------- ------------------ 8.6/16.1 MB 4.0 MB/s eta 0:00:02\n",
      "   --------------------- ------------------ 8.8/16.1 MB 4.0 MB/s eta 0:00:02\n",
      "   ---------------------- ----------------- 9.0/16.1 MB 4.0 MB/s eta 0:00:02\n",
      "   ---------------------- ----------------- 9.1/16.1 MB 4.0 MB/s eta 0:00:02\n",
      "   ----------------------- ---------------- 9.3/16.1 MB 4.0 MB/s eta 0:00:02\n",
      "   ----------------------- ---------------- 9.5/16.1 MB 3.9 MB/s eta 0:00:02\n",
      "   ------------------------ --------------- 9.7/16.1 MB 4.0 MB/s eta 0:00:02\n",
      "   ------------------------ --------------- 9.9/16.1 MB 4.0 MB/s eta 0:00:02\n",
      "   ------------------------ --------------- 10.0/16.1 MB 4.0 MB/s eta 0:00:02\n",
      "   ------------------------- -------------- 10.2/16.1 MB 4.0 MB/s eta 0:00:02\n",
      "   ------------------------- -------------- 10.4/16.1 MB 4.0 MB/s eta 0:00:02\n",
      "   -------------------------- ------------- 10.6/16.1 MB 4.0 MB/s eta 0:00:02\n",
      "   -------------------------- ------------- 10.8/16.1 MB 4.0 MB/s eta 0:00:02\n",
      "   --------------------------- ------------ 10.9/16.1 MB 4.0 MB/s eta 0:00:02\n",
      "   --------------------------- ------------ 11.1/16.1 MB 4.0 MB/s eta 0:00:02\n",
      "   ---------------------------- ----------- 11.3/16.1 MB 4.0 MB/s eta 0:00:02\n",
      "   ---------------------------- ----------- 11.5/16.1 MB 4.0 MB/s eta 0:00:02\n",
      "   ----------------------------- ---------- 11.7/16.1 MB 3.9 MB/s eta 0:00:02\n",
      "   ----------------------------- ---------- 11.9/16.1 MB 3.9 MB/s eta 0:00:02\n",
      "   ----------------------------- ---------- 12.0/16.1 MB 3.9 MB/s eta 0:00:02\n",
      "   ------------------------------ --------- 12.2/16.1 MB 3.9 MB/s eta 0:00:02\n",
      "   ------------------------------ --------- 12.4/16.1 MB 3.9 MB/s eta 0:00:01\n",
      "   ------------------------------- -------- 12.5/16.1 MB 3.9 MB/s eta 0:00:01\n",
      "   ------------------------------- -------- 12.7/16.1 MB 3.9 MB/s eta 0:00:01\n",
      "   -------------------------------- ------- 12.9/16.1 MB 3.9 MB/s eta 0:00:01\n",
      "   -------------------------------- ------- 13.1/16.1 MB 3.9 MB/s eta 0:00:01\n",
      "   -------------------------------- ------- 13.3/16.1 MB 3.9 MB/s eta 0:00:01\n",
      "   --------------------------------- ------ 13.4/16.1 MB 3.9 MB/s eta 0:00:01\n",
      "   --------------------------------- ------ 13.6/16.1 MB 3.9 MB/s eta 0:00:01\n",
      "   ---------------------------------- ----- 13.8/16.1 MB 3.9 MB/s eta 0:00:01\n",
      "   ---------------------------------- ----- 14.0/16.1 MB 3.9 MB/s eta 0:00:01\n",
      "   ----------------------------------- ---- 14.2/16.1 MB 3.9 MB/s eta 0:00:01\n",
      "   ----------------------------------- ---- 14.3/16.1 MB 3.9 MB/s eta 0:00:01\n",
      "   ------------------------------------ --- 14.5/16.1 MB 3.9 MB/s eta 0:00:01\n",
      "   ------------------------------------ --- 14.7/16.1 MB 3.9 MB/s eta 0:00:01\n",
      "   ------------------------------------ --- 14.9/16.1 MB 3.9 MB/s eta 0:00:01\n",
      "   ------------------------------------- -- 15.1/16.1 MB 3.9 MB/s eta 0:00:01\n",
      "   ------------------------------------- -- 15.2/16.1 MB 3.9 MB/s eta 0:00:01\n",
      "   -------------------------------------- - 15.4/16.1 MB 3.9 MB/s eta 0:00:01\n",
      "   -------------------------------------- - 15.6/16.1 MB 3.9 MB/s eta 0:00:01\n",
      "   ---------------------------------------  15.8/16.1 MB 3.9 MB/s eta 0:00:01\n",
      "   ---------------------------------------  16.0/16.1 MB 4.0 MB/s eta 0:00:01\n",
      "   ---------------------------------------  16.1/16.1 MB 4.0 MB/s eta 0:00:01\n",
      "   ---------------------------------------- 16.1/16.1 MB 3.9 MB/s eta 0:00:00\n",
      "Installing collected packages: mysql-connector-python\n",
      "Successfully installed mysql-connector-python-9.2.0\n"
     ]
    }
   ],
   "source": [
    "#Installing mysql connector \n",
    "!pip install mysql-connector-python"
   ]
  },
  {
   "cell_type": "code",
   "execution_count": 33,
   "id": "ab032e73-268c-4fa3-b2ae-cd2d26f75ed6",
   "metadata": {},
   "outputs": [],
   "source": [
    "#step 1 : connecting to mysql database \n",
    "import mysql.connector\n",
    "def connect_db():\n",
    "    return mysql.connector.connect(\n",
    "        host=\"localhost\",\n",
    "        user=\"root\",\n",
    "        password=\"$Shyam@466\",\n",
    "        database=\"LIBRARY\"\n",
    "    )    "
   ]
  },
  {
   "cell_type": "raw",
   "id": "2272d175-0527-4fac-b8b9-e007b8f5745f",
   "metadata": {},
   "source": [
    "#step 2 :BOOK MANAGEMENT FUNCTION"
   ]
  },
  {
   "cell_type": "code",
   "execution_count": 35,
   "id": "0b1fb47e-ffd3-46c6-84b7-6f2642deeed9",
   "metadata": {},
   "outputs": [],
   "source": [
    "# ADD A BOOK \n",
    "def create_book():\n",
    "    conn=connect_db()\n",
    "    cursor=conn.cursor()\n",
    "    book_id=input(\"Enter Book ID: \")\n",
    "    title=input(\"Title Of the Book: \")\n",
    "    author=input(\"Author of the Book: \")\n",
    "    price=input(\"Price of the Book: \")\n",
    "    cursor.excute(\"INSERT INTO books (id, title, author, price) VALUES ((%s, %s, %s, %s)\",(book_id,title,author,price))\n",
    "    conn.commit()\n",
    "    conn.close()\n",
    "    print(\"Book added successfully!\\n\")"
   ]
  },
  {
   "cell_type": "code",
   "execution_count": 37,
   "id": "9610136b-a163-46b5-b3ef-ab5da151af61",
   "metadata": {},
   "outputs": [],
   "source": [
    "#Display all books \n",
    "def display_books():\n",
    "    conn=connect_db()\n",
    "    cursor=conn.cursor()\n",
    "    cursor.excute(\"SELECT * FROM books\")\n",
    "    for book in cursor.fetchall():\n",
    "        print(f\"ID: {book[0]},Title:{book[1]},Author:{book[2]},Price:{book[3]}\")\n",
    "    conn.close()"
   ]
  },
  {
   "cell_type": "code",
   "execution_count": 39,
   "id": "4c5d05a8-34b6-4bef-9833-4188b8c3e6f1",
   "metadata": {},
   "outputs": [],
   "source": [
    "# Delete a book\n",
    "def delete_books():\n",
    "    conn=connect_db()\n",
    "    cursor=conn.cursor()\n",
    "    book_id=input(\"Enter Book ID to delete: \")\n",
    "    cursor.excute(\"DELETE FROM books WHERE id=%s\",(book_id,))\n",
    "    conn.commit()\n",
    "    conn.close()\n",
    "    print(\"Book deleted successfully!\\n\")"
   ]
  },
  {
   "cell_type": "markdown",
   "id": "60dc8c8c-205f-47e2-b776-f5ab84d8948c",
   "metadata": {},
   "source": [
    "Step 3 : STUDENT MANAGEMENT FUNCTIONS"
   ]
  },
  {
   "cell_type": "code",
   "execution_count": 41,
   "id": "ec461bed-761f-4bdd-8217-d8a9110bb7f3",
   "metadata": {},
   "outputs": [],
   "source": [
    "# 1.CREATING A STUDENT RECORD\n",
    "def create_student():\n",
    "    conn=connect_db()\n",
    "    cursor=conn.cursor()\n",
    "    member_id=input(\"Enter id of Student: \")\n",
    "    Name=(\"Enter the name of student: \")\n",
    "    Email=(\"Enter email of student: \")\n",
    "    Phone=(\"Enter Mobile number of student: \")\n",
    "    cursor.excute(\"INSERT INTO students (memberid,name,email,phone) VALUES (%s,%s,%s,%s)\",(member_id,Name,Email,Phone))\n",
    "    conn.commit()\n",
    "    conn.close()\n",
    "    print(\"Student added successfully!\\n\")"
   ]
  },
  {
   "cell_type": "code",
   "execution_count": 43,
   "id": "714fbc33-1d64-43da-879f-bcf80b190941",
   "metadata": {},
   "outputs": [],
   "source": [
    "# 2. DISPLAY ALL STUDENTS\n",
    "def display_students():\n",
    "    conn=connect_db()\n",
    "    cursor=conn.cursor()\n",
    "    cursor.excute(\"SELECT * FROM students\")\n",
    "    for students in cursor.fetchall():\n",
    "        print(f\"Memberid:{student[0]},Name:{student[1]},Email:{student[2]},Phone:{student[3]}\")\n",
    "    conn.close()    "
   ]
  },
  {
   "cell_type": "markdown",
   "id": "25833e2e-827f-4219-ad8f-a0e254b967be",
   "metadata": {},
   "source": [
    "STEP 4 :BOOK ISSUE AND RETURN"
   ]
  },
  {
   "cell_type": "code",
   "execution_count": 45,
   "id": "7a6f3d21-b94c-4b1c-806e-363d2c9d10a0",
   "metadata": {},
   "outputs": [],
   "source": [
    "# 1. ISSUE A BOOK\n",
    "def book_issued():\n",
    "    conn=connect_db()\n",
    "    cursor=conn.cursor()\n",
    "    book_id=input(\"Enter Book ID: \")\n",
    "    member_id=input(\"Enter id of Student: \")\n",
    "    issued_date=input(\"Date of Issue: \")\n",
    "    cursor.excute(\"INSERT INTO issued_books(id,memberid,issue_date) VALUES (%s,%s,%s)\",(book_id,member_id,issued_date))\n",
    "    conn.commit()\n",
    "    conn.close()\n",
    "    print(\"Book successfully issued!\\n\")"
   ]
  },
  {
   "cell_type": "code",
   "execution_count": 47,
   "id": "67f528fc-c10d-44c6-af20-737e36747239",
   "metadata": {},
   "outputs": [],
   "source": [
    "# 2. RETURN A BOOK \n",
    "def book_returned():\n",
    "    conn=connect_db()\n",
    "    cursor=conn.cursor()\n",
    "    book_id=input(\"Enter Book ID: \")\n",
    "    member_id=input(\"Enter id of student: \")\n",
    "    returned_date=input(\"Date of return: \")\n",
    "    cursor.excute(\"INSERT INTO issued_books(id,memberid,return_date) VALUES (%s,%s,%s)\",(book_id,member_id,returned_date))\n",
    "    conn.commit()\n",
    "    conn.close()\n",
    "    print(\"Book successfully returned!\\n\")\n",
    "    "
   ]
  },
  {
   "cell_type": "markdown",
   "id": "d745431f-f46e-4200-b63a-15f70e39e21a",
   "metadata": {},
   "source": [
    "Step 5 :CREATING THE  MENU SYSTEM"
   ]
  },
  {
   "cell_type": "code",
   "execution_count": 1,
   "id": "0defe868-85a4-4c2d-b108-4497d72ba29f",
   "metadata": {},
   "outputs": [
    {
     "name": "stdout",
     "output_type": "stream",
     "text": [
      "\n",
      "LIBRARY MANAGEMENT SYSTEM\n",
      "1. Issue Book\n",
      "2. Return Book\n",
      "3. Administration Menu\n",
      "4. Exit\n"
     ]
    },
    {
     "name": "stdin",
     "output_type": "stream",
     "text": [
      "Enter your Choice:  4\n"
     ]
    },
    {
     "name": "stdout",
     "output_type": "stream",
     "text": [
      "Exiting Library Management system....\n"
     ]
    }
   ],
   "source": [
    "def main():\n",
    "    while True:\n",
    "        print(\"\\nLIBRARY MANAGEMENT SYSTEM\")\n",
    "        print(\"1. Issue Book\")\n",
    "        print(\"2. Return Book\")\n",
    "        print(\"3. Administration Menu\")\n",
    "        print(\"4. Exit\")\n",
    "\n",
    "        choice = input (\"Enter your Choice: \")\n",
    "\n",
    "        if choice ==\"1\":\n",
    "            book_issued()\n",
    "        elif choice ==\"2\":\n",
    "            book_returned()\n",
    "        elif choice ==\"3\":\n",
    "            print(\"\\nADMINISTRATION MENU\")\n",
    "            print(\"1. Create Student Record\")\n",
    "            print(\"2. Display All Students\")\n",
    "            print(\"3. Create Book\")\n",
    "            print(\"4. Display All Books\")\n",
    "            print(\"5. Delete Book \")\n",
    "\n",
    "\n",
    "            admin_choice=input(\"Enter Your Choice\")\n",
    "\n",
    "            if admin_choice ==\"1\":\n",
    "                create_student()\n",
    "            elif admin_choice==\"2\":\n",
    "                display_students()\n",
    "            elif admin_choice==\"3\":\n",
    "                create_book()\n",
    "            elif admin_choice==\"4\":\n",
    "                display_books()\n",
    "            elif admin_choice==\"5\":\n",
    "                delete_books()\n",
    "            else:\n",
    "                print(\"Invalid Choice!\")\n",
    "        elif choice==\"4\":\n",
    "            print(\"Exiting Library Management system....\")\n",
    "            break\n",
    "        else:\n",
    "            print(\"Invalid Choice! Please enter again.\")\n",
    "\n",
    "if __name__==\"__main__\":\n",
    "    main()\n"
   ]
  }
 ],
 "metadata": {
  "kernelspec": {
   "display_name": "Python 3 (ipykernel)",
   "language": "python",
   "name": "python3"
  },
  "language_info": {
   "codemirror_mode": {
    "name": "ipython",
    "version": 3
   },
   "file_extension": ".py",
   "mimetype": "text/x-python",
   "name": "python",
   "nbconvert_exporter": "python",
   "pygments_lexer": "ipython3",
   "version": "3.12.4"
  }
 },
 "nbformat": 4,
 "nbformat_minor": 5
}
